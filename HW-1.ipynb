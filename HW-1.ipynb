{
 "cells": [
  {
   "cell_type": "markdown",
   "id": "a02d4ccc-b03b-4853-a380-27919fb652d2",
   "metadata": {},
   "source": [
    "### Hripsime Soghomonyan - Bass Model Homework"
   ]
  },
  {
   "cell_type": "markdown",
   "id": "e5882fca-2914-4a48-883d-6c68e54ef714",
   "metadata": {},
   "source": [
    "1. 2024 innovation: https://time.com/7094854/sakuu-kavian/"
   ]
  },
  {
   "cell_type": "markdown",
   "id": "898ff0eb-4fe8-4928-8b4c-5624953ae085",
   "metadata": {},
   "source": [
    "2. I have chosen from 2024 innovations Sakuu’s Kavian platform’s 3D printing electrodes, and as a similar innovation from past graphite electrodes. Graphite electrodes are made by mixing graphite with binder and making it into solid blocks. This process requires heating at extremely high temperatures and toxic chemicals, which makes it harmful for the environment. 3D printed electrodes are made by layered printing technique, without using any liquid, which is faster, less energy consuming and more eco-friendly. Graphite electrodes are used in steel production, especially in electric arc and ladle furnaces, while 3D printed ones are used in lithium-ion battery production, which itself is used in the electric vehicle and other portable electronic devices’ production.\n"
   ]
  },
  {
   "cell_type": "markdown",
   "id": "28b747a7-2dc4-487e-870b-7df67ca40305",
   "metadata": {},
   "source": [
    "3. Consumption volume of graphite electrodes worldwide 2014-2019: https://www.statista.com/statistics/1235825/graphite-electrode-consumption-volume-worldwide/"
   ]
  },
  {
   "cell_type": "code",
   "execution_count": 2,
   "id": "9cbd9d84-74db-44d9-8e18-9051cb38ec67",
   "metadata": {},
   "outputs": [],
   "source": [
    "import numpy as np\n",
    "import pandas as pd\n",
    "import scipy.optimize as opt\n",
    "import matplotlib.pyplot as plt"
   ]
  },
  {
   "cell_type": "code",
   "execution_count": 3,
   "id": "793c5d8e-9744-4e6c-a126-980d8a2aca03",
   "metadata": {
    "scrolled": true
   },
   "outputs": [
    {
     "name": "stdout",
     "output_type": "stream",
     "text": [
      "   Year  Volume\n",
      "0  2014  1000.5\n",
      "1  2015   949.5\n",
      "2  2016   886.9\n",
      "3  2017   856.4\n",
      "4  2018   875.6\n",
      "5  2019   892.0\n"
     ]
    }
   ],
   "source": [
    "data = pd.read_excel('data/electrodes_data.xlsx')\n",
    "print(data)"
   ]
  },
  {
   "cell_type": "code",
   "execution_count": 4,
   "id": "b84a76ab-477b-427f-9cc5-f660413b77db",
   "metadata": {},
   "outputs": [],
   "source": [
    "years = data[\"Year\"].values\n",
    "volume = data[\"Volume\"].values"
   ]
  },
  {
   "cell_type": "code",
   "execution_count": 5,
   "id": "749a32f2-3446-4cff-9060-e55777639074",
   "metadata": {},
   "outputs": [],
   "source": [
    "#4\n",
    "def bass_model(t, p, q, M):\n",
    "    return (M * (p + q) ** 2 * np.exp(-(p + q) * t)) / (p + q * np.exp(-(p + q) * t)) ** 2"
   ]
  },
  {
   "cell_type": "code",
   "execution_count": 6,
   "id": "e96aa864-40a3-47cc-96c1-f0227feadb68",
   "metadata": {},
   "outputs": [],
   "source": [
    "years -= years.min()  "
   ]
  },
  {
   "cell_type": "code",
   "execution_count": 7,
   "id": "ebc81705-c21d-4a3a-b33e-de3dcfb15747",
   "metadata": {},
   "outputs": [
    {
     "name": "stdout",
     "output_type": "stream",
     "text": [
      "Estimated Parameters: p=0.0134, q=-0.0135, M=970.80\n"
     ]
    }
   ],
   "source": [
    "params, _ = opt.curve_fit(bass_model, years, volume, p0=[0.03, 0.38, 16000])\n",
    "p, q, M = params\n",
    "print(f\"Estimated Parameters: p={p:.4f}, q={q:.4f}, M={M:.2f}\")"
   ]
  },
  {
   "cell_type": "code",
   "execution_count": 8,
   "id": "56a4ff0b-640a-48ae-9dcd-6a31650ee768",
   "metadata": {},
   "outputs": [
    {
     "name": "stdout",
     "output_type": "stream",
     "text": [
      "    Year  Predicted_Adopters\n",
      "0   2020            0.000000\n",
      "1   2021           13.004856\n",
      "2   2022           25.662875\n",
      "3   2023           37.987809\n",
      "4   2024           49.992690\n",
      "5   2025           61.689877\n",
      "6   2026           73.091099\n",
      "7   2027           84.207494\n",
      "8   2028           95.049646\n",
      "9   2029          105.627621\n",
      "10  2030          115.950996\n",
      "11  2031          126.028888\n",
      "12  2032          135.869985\n",
      "13  2033          145.482568\n",
      "14  2034          154.874533\n",
      "15  2035          164.053418\n",
      "16  2036          173.026420\n",
      "17  2037          181.800414\n",
      "18  2038          190.381971\n",
      "19  2039          198.777377\n"
     ]
    }
   ],
   "source": [
    "# 5\n",
    "def predict_diffusion(p, q, M, start_year=2020, end_year=2040):\n",
    "    future_years = np.arange(start_year, end_year)\n",
    "    adopters = np.zeros(len(future_years))\n",
    "    for i in range(1, len(future_years)):\n",
    "        adopters[i] = (p + q * (sum(adopters[:i]) / M)) * (M - sum(adopters[:i]))\n",
    "    return future_years, np.cumsum(adopters)\n",
    "\n",
    "graphite_years, graphite_adoption = predict_diffusion(p, q, M)\n",
    "\n",
    "graphite_predictions_df = pd.DataFrame({\"Year\": graphite_years, \"Predicted_Adopters\": graphite_adoption})\n",
    "\n",
    "print(graphite_predictions_df)"
   ]
  },
  {
   "cell_type": "markdown",
   "id": "2630a61d-eacc-41f3-b1a4-59412d343327",
   "metadata": {},
   "source": [
    "6. I am going to analyze the diffusion worldwide, as my data is about worldwide consumption, and not country specific. Country specific analysis is not compatible with the topic, as electrodes are mainly consumed during steel production, which is not country specific thing, therefore it needs global overview. \n"
   ]
  },
  {
   "cell_type": "code",
   "execution_count": 10,
   "id": "4eb63c21-6dfc-4c94-93be-5980aada4a15",
   "metadata": {},
   "outputs": [
    {
     "name": "stdout",
     "output_type": "stream",
     "text": [
      "    Year  New_Adopters  Cumulative_Adopters\n",
      "0   2020      0.000000             0.000000\n",
      "1   2021     13.004856            13.004856\n",
      "2   2022     12.658019            25.662875\n",
      "3   2023     12.324934            37.987809\n",
      "4   2024     12.004881            49.992690\n",
      "5   2025     11.697187            61.689877\n",
      "6   2026     11.401222            73.091099\n",
      "7   2027     11.116395            84.207494\n",
      "8   2028     10.842152            95.049646\n",
      "9   2029     10.577975           105.627621\n",
      "10  2030     10.323375           115.950996\n",
      "11  2031     10.077893           126.028888\n",
      "12  2032      9.841097           135.869985\n",
      "13  2033      9.612582           145.482568\n",
      "14  2034      9.391965           154.874533\n",
      "15  2035      9.178885           164.053418\n",
      "16  2036      8.973002           173.026420\n",
      "17  2037      8.773994           181.800414\n",
      "18  2038      8.581557           190.381971\n",
      "19  2039      8.395405           198.777377\n"
     ]
    }
   ],
   "source": [
    "# 7\n",
    "def estimate_adopters_by_period(p, q, M, start_year=2020, end_year=2040):\n",
    "    future_years = np.arange(start_year, end_year)\n",
    "    new_adopters = np.zeros(len(future_years))\n",
    "    cumulative_adopters = np.zeros(len(future_years))\n",
    "    \n",
    "    for i in range(1, len(future_years)):\n",
    "        new_adopters[i] = (p + q * (cumulative_adopters[i - 1] / M)) * (M - cumulative_adopters[i - 1])\n",
    "        cumulative_adopters[i] = cumulative_adopters[i - 1] + new_adopters[i]\n",
    "    \n",
    "    return future_years, new_adopters, cumulative_adopters\n",
    "\n",
    "adoption_years, adopters_per_period, cumulative_adopters = estimate_adopters_by_period(p, q, M)\n",
    "\n",
    "adopters_df = pd.DataFrame({\n",
    "    \"Year\": adoption_years,\n",
    "    \"New_Adopters\": adopters_per_period,\n",
    "    \"Cumulative_Adopters\": cumulative_adopters\n",
    "})\n",
    "\n",
    "print(adopters_df)"
   ]
  }
 ],
 "metadata": {
  "kernelspec": {
   "display_name": "Python 3 (ipykernel)",
   "language": "python",
   "name": "python3"
  },
  "language_info": {
   "codemirror_mode": {
    "name": "ipython",
    "version": 3
   },
   "file_extension": ".py",
   "mimetype": "text/x-python",
   "name": "python",
   "nbconvert_exporter": "python",
   "pygments_lexer": "ipython3",
   "version": "3.11.7"
  }
 },
 "nbformat": 4,
 "nbformat_minor": 5
}
